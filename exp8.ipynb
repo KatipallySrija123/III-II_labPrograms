{
  "nbformat": 4,
  "nbformat_minor": 0,
  "metadata": {
    "colab": {
      "name": "Untitled1.ipynb",
      "provenance": [],
      "authorship_tag": "ABX9TyMuPJ5K3m2b+OquKn8sJjw2",
      "include_colab_link": true
    },
    "kernelspec": {
      "name": "python3",
      "display_name": "Python 3"
    },
    "language_info": {
      "name": "python"
    }
  },
  "cells": [
    {
      "cell_type": "markdown",
      "metadata": {
        "id": "view-in-github",
        "colab_type": "text"
      },
      "source": [
        "<a href=\"https://colab.research.google.com/github/KatipallySrija123/III-II_labPrograms/blob/main/exp8.ipynb\" target=\"_parent\"><img src=\"https://colab.research.google.com/assets/colab-badge.svg\" alt=\"Open In Colab\"/></a>"
      ]
    },
    {
      "cell_type": "code",
      "execution_count": null,
      "metadata": {
        "id": "kROgDrZ2NrYF"
      },
      "outputs": [],
      "source": [
        "import numpy as np\n",
        "import pandas as pd"
      ]
    },
    {
      "cell_type": "code",
      "source": [
        "import random\n",
        "best=-100000\n",
        "populations =([[random.randint(0,1) for x in range(6)] for i in range(4)])\n",
        "print(type(populations))\n",
        "parents=[]\n",
        "new_populations = []\n",
        "print(populations)\n"
      ],
      "metadata": {
        "colab": {
          "base_uri": "https://localhost:8080/"
        },
        "id": "QNGljiPeOG9L",
        "outputId": "7fb673f2-f636-4ff5-c620-9a1f4951e369"
      },
      "execution_count": null,
      "outputs": [
        {
          "output_type": "stream",
          "name": "stdout",
          "text": [
            "<class 'list'>\n",
            "[[0, 1, 1, 0, 0, 0], [0, 1, 1, 1, 1, 1], [1, 0, 1, 1, 1, 1], [1, 0, 0, 0, 1, 1]]\n"
          ]
        }
      ]
    },
    {
      "cell_type": "code",
      "source": [
        "def fitness_score():\n",
        "  global populations,best\n",
        "  fit_value = []\n",
        "  fit_score=[]\n",
        "  for i in range(4):\n",
        "    chromosome_value=0\n",
        "    for j in range(5,0,-1):\n",
        "      chromosome_value += populations[i][j]*(2**(5-j))\n",
        "      chromosome_value = -1*chromosome_value if populations[i][0]==1 else chromosome_value\n",
        "    print(chromosome_value)\n",
        "    fit_value.append(-(chromosome_value**2) + 5 )\n",
        "    print(fit_value)\n",
        "  fit_value, populations = zip(*sorted(zip(fit_value, populations) , reverse = True))\n",
        "  best= fit_value[0]\n",
        "fitness_score()\n"
      ],
      "metadata": {
        "colab": {
          "base_uri": "https://localhost:8080/"
        },
        "id": "q4DeMi73OLHo",
        "outputId": "d1a530b1-c9c7-461b-f3d4-88fe771687be"
      },
      "execution_count": null,
      "outputs": [
        {
          "output_type": "stream",
          "name": "stdout",
          "text": [
            "24\n",
            "[-571]\n",
            "31\n",
            "[-571, -956]\n",
            "5\n",
            "[-571, -956, -20]\n",
            "1\n",
            "[-571, -956, -20, 4]\n"
          ]
        }
      ]
    },
    {
      "cell_type": "code",
      "source": [
        "def selectparent():\n",
        "  global parents\n",
        "  parents=populations[0:2]\n",
        "  print(type(parents))\n",
        "  print(parents)\n",
        "selectparent()"
      ],
      "metadata": {
        "colab": {
          "base_uri": "https://localhost:8080/"
        },
        "id": "ylz_EKcNOsRz",
        "outputId": "a0bafe07-8dd2-4cae-cc74-0a5443de3bcb"
      },
      "execution_count": null,
      "outputs": [
        {
          "output_type": "stream",
          "name": "stdout",
          "text": [
            "<class 'tuple'>\n",
            "([1, 0, 0, 0, 1, 1], [1, 0, 1, 1, 1, 1])\n"
          ]
        }
      ]
    },
    {
      "cell_type": "code",
      "source": [
        "def crossover():\n",
        "  global parents\n",
        "  cross_point = random.randint(0,5)\n",
        "  parents=parents + tuple([(parents[0][0:cross_point +1] +parents[1][cross_point+1:6])])\n",
        "  parents =parents+ tuple([(parents[1][0:cross_point +1] +parents[0][cross_point+1:6])])\n",
        "  print(parents)\n",
        "crossover()"
      ],
      "metadata": {
        "colab": {
          "base_uri": "https://localhost:8080/"
        },
        "id": "PEWHg4vIO3sC",
        "outputId": "1df21adf-1a6b-43b3-d574-26f2c3dd7b85"
      },
      "execution_count": null,
      "outputs": [
        {
          "output_type": "stream",
          "name": "stdout",
          "text": [
            "([1, 0, 0, 0, 1, 1], [1, 0, 1, 1, 1, 1], [1, 0, 0, 1, 1, 1], [1, 0, 1, 0, 1, 1])\n"
          ]
        }
      ]
    },
    {
      "cell_type": "code",
      "source": [
        "def mutation():\n",
        "  global populations, parents\n",
        "  mute = random.randint(0,49)\n",
        "  if mute == 20 :\n",
        "    x=random.randint(0,3)\n",
        "    y = random.randint(0,5)\n",
        "    parents[x][y] = 1-parents[x][y]\n",
        "  populations = parents\n",
        "  print(populations)\n",
        "mutation()"
      ],
      "metadata": {
        "colab": {
          "base_uri": "https://localhost:8080/"
        },
        "id": "8qx4DuxaO-e3",
        "outputId": "3a3d5a1a-36c3-495e-988c-8c6cbaf9f9ea"
      },
      "execution_count": null,
      "outputs": [
        {
          "output_type": "stream",
          "name": "stdout",
          "text": [
            "([1, 0, 0, 0, 1, 1], [1, 0, 1, 1, 1, 1], [1, 0, 0, 1, 1, 1], [1, 0, 1, 0, 1, 1])\n"
          ]
        }
      ]
    },
    {
      "cell_type": "code",
      "source": [
        "for i in range(10):\n",
        "  fitness_score()\n",
        "  selectparent()\n",
        "  crossover()\n",
        "  mutation()\n",
        "print(\"best score :\")\n",
        "print(best)\n",
        "print(\"sequence........\")\n",
        "print(populations[0])\n"
      ],
      "metadata": {
        "colab": {
          "base_uri": "https://localhost:8080/"
        },
        "id": "iU4MI7UpQO1E",
        "outputId": "c04680a3-74c4-4d5d-d69b-7fbf39e9d133"
      },
      "execution_count": null,
      "outputs": [
        {
          "output_type": "stream",
          "name": "stdout",
          "text": [
            "1\n",
            "[4]\n",
            "5\n",
            "[4, -20]\n",
            "-3\n",
            "[4, -20, -4]\n",
            "9\n",
            "[4, -20, -4, -76]\n",
            "<class 'tuple'>\n",
            "([1, 0, 0, 0, 1, 1], [1, 0, 0, 1, 1, 1])\n",
            "([1, 0, 0, 0, 1, 1], [1, 0, 0, 1, 1, 1], [1, 0, 0, 0, 1, 1], [1, 0, 0, 1, 1, 1])\n",
            "([1, 0, 0, 0, 1, 1], [1, 0, 0, 1, 1, 1], [1, 0, 0, 0, 1, 1], [1, 0, 0, 1, 1, 1])\n",
            "1\n",
            "[4]\n",
            "-3\n",
            "[4, -4]\n",
            "1\n",
            "[4, -4, 4]\n",
            "-3\n",
            "[4, -4, 4, -4]\n",
            "<class 'tuple'>\n",
            "([1, 0, 0, 0, 1, 1], [1, 0, 0, 0, 1, 1])\n",
            "([1, 0, 0, 0, 1, 1], [1, 0, 0, 0, 1, 1], [1, 0, 0, 0, 1, 1], [1, 0, 0, 0, 1, 1])\n",
            "([1, 0, 0, 0, 1, 1], [1, 0, 0, 0, 1, 1], [1, 0, 0, 0, 1, 1], [1, 0, 0, 0, 1, 1])\n",
            "1\n",
            "[4]\n",
            "1\n",
            "[4, 4]\n",
            "1\n",
            "[4, 4, 4]\n",
            "1\n",
            "[4, 4, 4, 4]\n",
            "<class 'tuple'>\n",
            "([1, 0, 0, 0, 1, 1], [1, 0, 0, 0, 1, 1])\n",
            "([1, 0, 0, 0, 1, 1], [1, 0, 0, 0, 1, 1], [1, 0, 0, 0, 1, 1], [1, 0, 0, 0, 1, 1])\n",
            "([1, 0, 0, 0, 1, 1], [1, 0, 0, 0, 1, 1], [1, 0, 0, 0, 1, 1], [1, 0, 0, 0, 1, 1])\n",
            "1\n",
            "[4]\n",
            "1\n",
            "[4, 4]\n",
            "1\n",
            "[4, 4, 4]\n",
            "1\n",
            "[4, 4, 4, 4]\n",
            "<class 'tuple'>\n",
            "([1, 0, 0, 0, 1, 1], [1, 0, 0, 0, 1, 1])\n",
            "([1, 0, 0, 0, 1, 1], [1, 0, 0, 0, 1, 1], [1, 0, 0, 0, 1, 1], [1, 0, 0, 0, 1, 1])\n",
            "([1, 0, 0, 0, 1, 1], [1, 0, 0, 0, 1, 1], [1, 0, 0, 0, 1, 1], [1, 0, 0, 0, 1, 1])\n",
            "1\n",
            "[4]\n",
            "1\n",
            "[4, 4]\n",
            "1\n",
            "[4, 4, 4]\n",
            "1\n",
            "[4, 4, 4, 4]\n",
            "<class 'tuple'>\n",
            "([1, 0, 0, 0, 1, 1], [1, 0, 0, 0, 1, 1])\n",
            "([1, 0, 0, 0, 1, 1], [1, 0, 0, 0, 1, 1], [1, 0, 0, 0, 1, 1], [1, 0, 0, 0, 1, 1])\n",
            "([1, 0, 0, 0, 1, 1], [1, 0, 0, 0, 1, 1], [1, 0, 0, 0, 1, 1], [1, 0, 0, 0, 1, 1])\n",
            "1\n",
            "[4]\n",
            "1\n",
            "[4, 4]\n",
            "1\n",
            "[4, 4, 4]\n",
            "1\n",
            "[4, 4, 4, 4]\n",
            "<class 'tuple'>\n",
            "([1, 0, 0, 0, 1, 1], [1, 0, 0, 0, 1, 1])\n",
            "([1, 0, 0, 0, 1, 1], [1, 0, 0, 0, 1, 1], [1, 0, 0, 0, 1, 1], [1, 0, 0, 0, 1, 1])\n",
            "([1, 0, 0, 0, 1, 1], [1, 0, 0, 0, 1, 1], [1, 0, 0, 0, 1, 1], [1, 0, 0, 0, 1, 1])\n",
            "1\n",
            "[4]\n",
            "1\n",
            "[4, 4]\n",
            "1\n",
            "[4, 4, 4]\n",
            "1\n",
            "[4, 4, 4, 4]\n",
            "<class 'tuple'>\n",
            "([1, 0, 0, 0, 1, 1], [1, 0, 0, 0, 1, 1])\n",
            "([1, 0, 0, 0, 1, 1], [1, 0, 0, 0, 1, 1], [1, 0, 0, 0, 1, 1], [1, 0, 0, 0, 1, 1])\n",
            "([1, 0, 0, 0, 1, 1], [1, 0, 0, 0, 1, 1], [1, 0, 0, 0, 1, 1], [1, 0, 0, 0, 1, 1])\n",
            "1\n",
            "[4]\n",
            "1\n",
            "[4, 4]\n",
            "1\n",
            "[4, 4, 4]\n",
            "1\n",
            "[4, 4, 4, 4]\n",
            "<class 'tuple'>\n",
            "([1, 0, 0, 0, 1, 1], [1, 0, 0, 0, 1, 1])\n",
            "([1, 0, 0, 0, 1, 1], [1, 0, 0, 0, 1, 1], [1, 0, 0, 0, 1, 1], [1, 0, 0, 0, 1, 1])\n",
            "([1, 0, 0, 0, 1, 1], [1, 0, 0, 0, 1, 1], [1, 0, 0, 0, 1, 1], [1, 0, 0, 0, 1, 1])\n",
            "1\n",
            "[4]\n",
            "1\n",
            "[4, 4]\n",
            "1\n",
            "[4, 4, 4]\n",
            "1\n",
            "[4, 4, 4, 4]\n",
            "<class 'tuple'>\n",
            "([1, 0, 0, 0, 1, 1], [1, 0, 0, 0, 1, 1])\n",
            "([1, 0, 0, 0, 1, 1], [1, 0, 0, 0, 1, 1], [1, 0, 0, 0, 1, 1], [1, 0, 0, 0, 1, 1])\n",
            "([1, 0, 0, 0, 1, 1], [1, 0, 0, 0, 1, 1], [1, 0, 0, 0, 1, 1], [1, 0, 0, 0, 1, 1])\n",
            "1\n",
            "[4]\n",
            "1\n",
            "[4, 4]\n",
            "1\n",
            "[4, 4, 4]\n",
            "1\n",
            "[4, 4, 4, 4]\n",
            "<class 'tuple'>\n",
            "([1, 0, 0, 0, 1, 1], [1, 0, 0, 0, 1, 1])\n",
            "([1, 0, 0, 0, 1, 1], [1, 0, 0, 0, 1, 1], [1, 0, 0, 0, 1, 1], [1, 0, 0, 0, 1, 1])\n",
            "([1, 0, 0, 0, 1, 1], [1, 0, 0, 0, 1, 1], [1, 0, 0, 0, 1, 1], [1, 0, 0, 0, 1, 1])\n",
            "best score :\n",
            "4\n",
            "sequence........\n",
            "[1, 0, 0, 0, 1, 1]\n"
          ]
        }
      ]
    }
  ]
}